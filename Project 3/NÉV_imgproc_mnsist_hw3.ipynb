{
 "cells": [
  {
   "cell_type": "markdown",
   "id": "75d10953-916d-4b03-afaa-ac3d27857fae",
   "metadata": {},
   "source": [
    "Ez a harmadik és egyben utolsó házifeladat azon Mérnökinformatikus BSc hallgatók részére akik a 2023/24/1 szemeszterben Képfeldolgozás tárgyat hallgatják."
   ]
  },
  {
   "cell_type": "markdown",
   "id": "20b70107-5634-4734-ba17-45ae709f00f4",
   "metadata": {
    "tags": []
   },
   "source": [
    "### Bevezetés\n",
    "Kézzel írott számok automatikus felismerése különböző területeket jelent előnyt. Példák: csekkek automatikus beolvasása, termékek szavatossági idejét jelző dátumok leolvasása, matematikai szoftver mely kézzel írott kifejezéseket digitalizál.\n",
    "### Feladat\n",
    "Osztályozást végezni képfeldolgozási módszerek és ML/AI megoldások használatával. \n",
    " - Válassz két tetszőleges számot az MNIST adatbázisából.\n",
    " - Végezz **feature extraction**-t a választott kép-adatokon. A feature-ök a kép olyan tulajdonságai melyek megfontolásod szerint reprezentálják az adatpontokat (képeket). \n",
    " - Hozz létre címkézett (labeled) adathalmazt és jelenítsd meg azt. \n",
    " - Válassz egy **felügyelt tanítási módszert**, definiáld a modellt és tanítsd be a létrehozott adatbázis felhasználásával.\n",
    " - **Értékeld** a betanított modell teljesítményét valamilyen metrikával és ez alapján írd le véleményed, meglátásod, következtetésed. \n",
    " \n",
    "A feladatot összetettebbé teheted azzal, hogy több kézzel írt szám kategóriát is osztályokba sorolsz modelled segítségével. Ha érzed magadban az x-et tervezz *neurális hálózatot*, implementáld és osztályozd az egész adathalmazt.\n",
    "### Adat\n",
    "Az MNIST (Modified National Institute of Standards and Technology) adatbázis osztályozása klasszikus példája az **Image classification** feladat megoldásának szemléltetésére. A neurális hálózatokkal foglalkozó irodalom előszeretettel használja példának, ebből adódóan részletes információanyag elérhető az interneten. Az mnist_data könyvtárban találod az adatokat melyek betöltéséhez az *idx2numpy* csomagra van szükséged (Az adatok betöltésére példát a moving_on_with_ai_loaded.ipynb Notebook végén találsz.). \n",
    " - Tanító képek: train-images.idx3-ubyte\n",
    " - Tanító képek címkéi: train-labels.idx1-ubyte\n",
    " - Tesztelő képek: t10k-images.idx3-ubyte\n",
    " - Tesztelő képek címkéi: t10k-labels.idx1-ubyte\n",
    " \n",
    "Jó munkát és új tapasztalatokat kívánok!<br>\n",
    "**Jegyzetelj, dokumentálj, indokold döntéseid!**"
   ]
  },
  {
   "cell_type": "code",
   "execution_count": 1,
   "outputs": [],
   "source": [
    "# I had a summer \"internship\" in which we \"worked\" with TensorFlow,\n",
    "# I thought I might utilize my previous experience with the framework"
   ],
   "metadata": {
    "collapsed": false,
    "ExecuteTime": {
     "end_time": "2023-12-09T20:34:34.044737Z",
     "start_time": "2023-12-09T20:34:33.821739Z"
    }
   },
   "id": "764f15fef4fc50cf"
  },
  {
   "cell_type": "code",
   "execution_count": 2,
   "outputs": [],
   "source": [
    "import time\n",
    "\n",
    "import numpy as np\n",
    "\n",
    "import tensorflow as tf\n",
    "from keras import layers\n",
    "from tensorflow import keras\n",
    "\n",
    "from matplotlib import pyplot as plt"
   ],
   "metadata": {
    "collapsed": false,
    "ExecuteTime": {
     "end_time": "2023-12-09T20:34:37.638285100Z",
     "start_time": "2023-12-09T20:34:33.836737Z"
    }
   },
   "id": "fe20b8fc7b49ac91"
  },
  {
   "cell_type": "code",
   "execution_count": 3,
   "outputs": [],
   "source": [
    "# Hyperparameters for later use\n",
    "\n",
    "batch_size = 32\n",
    "EPOCHS = 30\n",
    "classes = 10\n",
    "IMAGE_WIDTH = 28\n",
    "IMAGE_HEIGHT = 28"
   ],
   "metadata": {
    "collapsed": false,
    "ExecuteTime": {
     "end_time": "2023-12-09T20:34:37.654287700Z",
     "start_time": "2023-12-09T20:34:37.639285Z"
    }
   },
   "id": "eea6e90dbaf1090"
  },
  {
   "cell_type": "code",
   "execution_count": 4,
   "outputs": [],
   "source": [
    "# Loading the data\n",
    "\n",
    "import idx2numpy\n",
    "TRAIN_IMAGE_FILENAME = 'mnist_data/train-images.idx3-ubyte'\n",
    "TRAIN_LABEL_FILENAME = 'mnist_data/train-labels.idx1-ubyte'\n",
    "TEST_IMAGE_FILENAME = 'mnist_data/t10k-images.idx3-ubyte'\n",
    "TEST_LABEL_FILENAME = 'mnist_data/t10k-labels.idx1-ubyte'\n",
    "\n",
    "train_images = idx2numpy.convert_from_file(TRAIN_IMAGE_FILENAME)\n",
    "train_labels = idx2numpy.convert_from_file(TRAIN_LABEL_FILENAME)\n",
    "test_images = idx2numpy.convert_from_file(TEST_IMAGE_FILENAME)\n",
    "test_labels = idx2numpy.convert_from_file(TEST_LABEL_FILENAME)"
   ],
   "metadata": {
    "collapsed": false,
    "ExecuteTime": {
     "end_time": "2023-12-09T20:34:37.748286500Z",
     "start_time": "2023-12-09T20:34:37.656285Z"
    }
   },
   "id": "ce5c40921383f4b7"
  },
  {
   "cell_type": "code",
   "execution_count": 5,
   "outputs": [
    {
     "name": "stdout",
     "output_type": "stream",
     "text": [
      "5\n"
     ]
    },
    {
     "data": {
      "text/plain": "<Figure size 432x288 with 1 Axes>",
      "image/png": "[encoded data removed]"
     },
     "metadata": {
      "needs_background": "light"
     },
     "output_type": "display_data"
    }
   ],
   "source": [
    "plt.imshow(train_images[0], 'gray')\n",
    "print(train_labels[0])"
   ],
   "metadata": {
    "collapsed": false,
    "ExecuteTime": {
     "end_time": "2023-12-09T20:34:37.864284600Z",
     "start_time": "2023-12-09T20:34:37.760284500Z"
    }
   },
   "id": "638f41d5ab54dc44"
  },
  {
   "cell_type": "code",
   "execution_count": 6,
   "outputs": [
    {
     "name": "stdout",
     "output_type": "stream",
     "text": [
      "Number of train images: 60000\n",
      "Number of test images: 10000\n"
     ]
    }
   ],
   "source": [
    "print(\"Number of train images:\" ,len(train_images))\n",
    "print(\"Number of test images:\" ,len(test_images))"
   ],
   "metadata": {
    "collapsed": false,
    "ExecuteTime": {
     "end_time": "2023-12-09T20:34:37.938285200Z",
     "start_time": "2023-12-09T20:34:37.862284600Z"
    }
   },
   "id": "c518cb1f4b1f47d"
  },
  {
   "cell_type": "code",
   "execution_count": 7,
   "outputs": [
    {
     "name": "stdout",
     "output_type": "stream",
     "text": [
      "The shape of images: (28, 28)\n"
     ]
    }
   ],
   "source": [
    "input_shape = train_images[0].shape\n",
    "print(\"The shape of images:\", input_shape)"
   ],
   "metadata": {
    "collapsed": false,
    "ExecuteTime": {
     "end_time": "2023-12-09T20:34:37.956285Z",
     "start_time": "2023-12-09T20:34:37.877284900Z"
    }
   },
   "id": "5f5518f4db57103c"
  },
  {
   "cell_type": "code",
   "execution_count": 8,
   "outputs": [
    {
     "name": "stdout",
     "output_type": "stream",
     "text": [
      "Available devices:  ['/device:CPU:0', '/device:GPU:0']\n",
      "[PhysicalDevice(name='/physical_device:GPU:0', device_type='GPU')]\n"
     ]
    }
   ],
   "source": [
    "logical_device_names = [logical_device.name for logical_device in tf.config.list_logical_devices()]\n",
    "\n",
    "# It took a lot of time to install tensorflow gpu and to get it to work with JupyterNotebook\n",
    "# But it drastically improves the training time\n",
    "\n",
    "print(\"Available devices: \", logical_device_names)\n",
    "\n",
    "tf.debugging.set_log_device_placement(True)\n",
    "\n",
    "print(tf.config.list_physical_devices('GPU'))"
   ],
   "metadata": {
    "collapsed": false,
    "ExecuteTime": {
     "end_time": "2023-12-09T20:34:38.710285600Z",
     "start_time": "2023-12-09T20:34:38.695286500Z"
    }
   },
   "id": "79b023ea9406cca9"
  },
  {
   "cell_type": "code",
   "execution_count": 9,
   "outputs": [
    {
     "name": "stdout",
     "output_type": "stream",
     "text": [
      "INFO:tensorflow:Using MirroredStrategy with devices ('/job:localhost/replica:0/task:0/device:GPU:0',)\n"
     ]
    }
   ],
   "source": [
    "# Set the device to be used in the context of the strategy\n",
    "if 'GPU' in ''.join(logical_device_names):\n",
    "    strategy = tf.distribute.MirroredStrategy()\n",
    "else:\n",
    "  strategy = tf.distribute.OneDeviceStrategy(logical_device_names[0])"
   ],
   "metadata": {
    "collapsed": false,
    "ExecuteTime": {
     "end_time": "2023-12-09T20:34:38.845284200Z",
     "start_time": "2023-12-09T20:34:38.711285500Z"
    }
   },
   "id": "56ec5030b66ef026"
  },
  {
   "cell_type": "markdown",
   "source": [
    "The \"downsize\" of using a GPU is that during the training the MirroredStrategy expects the data to come in batches,\n",
    "which are smaller chunks of the dataset, individually fed while training that enables parallelization, \n",
    "which in turns increases speed and reduces memory needs\n",
    "\n",
    "It supposedly increases the generalization ability too, \n",
    "but I did not find it so when I had compared the results of batched and non-batched training"
   ],
   "metadata": {
    "collapsed": false
   },
   "id": "bed0edc0cf034992"
  },
  {
   "cell_type": "code",
   "execution_count": 10,
   "outputs": [],
   "source": [
    "# Add channel dimension to the images\n",
    "train_images = tf.expand_dims(train_images, axis=-1)\n",
    "test_images = tf.expand_dims(test_images, axis=-1) "
   ],
   "metadata": {
    "collapsed": false,
    "ExecuteTime": {
     "end_time": "2023-12-09T20:34:38.911285100Z",
     "start_time": "2023-12-09T20:34:38.870285400Z"
    }
   },
   "id": "19b1a985163cd915"
  },
  {
   "cell_type": "code",
   "execution_count": 11,
   "outputs": [
    {
     "name": "stdout",
     "output_type": "stream",
     "text": [
      "(28, 28, 1)\n"
     ]
    }
   ],
   "source": [
    "print(train_images[0].shape)"
   ],
   "metadata": {
    "collapsed": false,
    "ExecuteTime": {
     "end_time": "2023-12-09T20:34:38.925286100Z",
     "start_time": "2023-12-09T20:34:38.885285100Z"
    }
   },
   "id": "a5e0048404f02619"
  },
  {
   "cell_type": "code",
   "execution_count": 12,
   "outputs": [],
   "source": [
    "# It is also required to convert the data to Dataset (or something else) to be able to batch it\n",
    "# Prefetch prepares the next set of data while others are being trained on to further improve speed\n",
    "\n",
    "train_dataset = tf.data.Dataset.from_tensor_slices((train_images, train_labels))\n",
    "train_dataset = (train_dataset.batch(32)).prefetch(buffer_size=32)\n",
    "\n",
    "test_dataset = tf.data.Dataset.from_tensor_slices((test_images, test_labels))\n",
    "test_dataset = test_dataset.batch(32).prefetch(buffer_size=32)"
   ],
   "metadata": {
    "collapsed": false,
    "ExecuteTime": {
     "end_time": "2023-12-09T20:34:38.941284400Z",
     "start_time": "2023-12-09T20:34:38.905284700Z"
    }
   },
   "id": "e73514973b9d33db"
  },
  {
   "cell_type": "code",
   "execution_count": 13,
   "outputs": [],
   "source": [
    "# Define the neural network that is used for classification\n",
    "\n",
    "with strategy.scope():\n",
    "    \n",
    "   model = tf.keras.models.Sequential([\n",
    "       \n",
    "        # Convolutional filters to extract relevant features\n",
    "        # The network itself learns the best filters of the pre-defined size\n",
    "        # And relu activation function because it just works\n",
    "        layers.Conv2D(32, (3, 3), activation='relu', input_shape=(IMAGE_HEIGHT, IMAGE_WIDTH, 1)),\n",
    "        layers.MaxPooling2D((2, 2)),\n",
    "        layers.Conv2D(64, (3, 3), activation='relu'),\n",
    "        layers.MaxPooling2D((2, 2)),\n",
    "        layers.Conv2D(64, (3, 3), activation='relu'),\n",
    "        \n",
    "        # Basically reduces the dimensionality of the array,\n",
    "        # for compatibility with the dense layer\n",
    "        layers.Flatten(),\n",
    "        \n",
    "        # I found that a single layer with only 64 neuron give great accuracy without much overfitting\n",
    "        layers.Dense(64, activation='relu'),\n",
    "           \n",
    "        # Dropout disables some neurons during training so the model doesn't rely too much on it\n",
    "        # Greatly helps with overfitting\n",
    "        layers.Dropout(0.2),\n",
    "    \n",
    "        # The final layer, which will have the output\n",
    "        # Softmax returns a probability for each of the classes\n",
    "        layers.Dense(classes, activation=\"softmax\")\n",
    "    ])"
   ],
   "metadata": {
    "collapsed": false,
    "ExecuteTime": {
     "end_time": "2023-12-09T20:34:39.226284900Z",
     "start_time": "2023-12-09T20:34:38.933285Z"
    }
   },
   "id": "a9b254fe2201b165"
  },
  {
   "cell_type": "code",
   "execution_count": 14,
   "outputs": [],
   "source": [
    "# With callbacks we can do some useful things while training\n",
    "\n",
    "callbacks = [\n",
    "    #  This callback saves the model every 100 batches.\n",
    "    keras.callbacks.ModelCheckpoint(\n",
    "        filepath=\"checkpoint_dir/saved-model.hdf5\",\n",
    "        save_freq=100,\n",
    "        monitor='accuracy',\n",
    "        mode='max',\n",
    "        save_best_only=True,\n",
    "        verbose=0,\n",
    "    ), \n",
    "    # Stop training when `val_accuracy` is no longer improving\n",
    "    keras.callbacks.EarlyStopping(\n",
    "        \n",
    "        monitor=\"val_accuracy\",\n",
    "        min_delta=1e-5,\n",
    "        patience=2,\n",
    "        verbose=1,\n",
    "    )\n",
    "]"
   ],
   "metadata": {
    "collapsed": false,
    "ExecuteTime": {
     "end_time": "2023-12-09T20:34:39.241284700Z",
     "start_time": "2023-12-09T20:34:39.228285200Z"
    }
   },
   "id": "854d587ecd97110"
  },
  {
   "cell_type": "code",
   "execution_count": 15,
   "outputs": [
    {
     "name": "stdout",
     "output_type": "stream",
     "text": [
      "Model: \"sequential\"\n",
      "_________________________________________________________________\n",
      "Layer (type)                 Output Shape              Param #   \n",
      "=================================================================\n",
      "conv2d (Conv2D)              (None, 26, 26, 32)        320       \n",
      "_________________________________________________________________\n",
      "max_pooling2d (MaxPooling2D) (None, 13, 13, 32)        0         \n",
      "_________________________________________________________________\n",
      "conv2d_1 (Conv2D)            (None, 11, 11, 64)        18496     \n",
      "_________________________________________________________________\n",
      "max_pooling2d_1 (MaxPooling2 (None, 5, 5, 64)          0         \n",
      "_________________________________________________________________\n",
      "conv2d_2 (Conv2D)            (None, 3, 3, 64)          36928     \n",
      "_________________________________________________________________\n",
      "flatten (Flatten)            (None, 576)               0         \n",
      "_________________________________________________________________\n",
      "dense (Dense)                (None, 64)                36928     \n",
      "_________________________________________________________________\n",
      "dropout (Dropout)            (None, 64)                0         \n",
      "_________________________________________________________________\n",
      "dense_1 (Dense)              (None, 10)                650       \n",
      "=================================================================\n",
      "Total params: 93,322\n",
      "Trainable params: 93,322\n",
      "Non-trainable params: 0\n",
      "_________________________________________________________________\n"
     ]
    }
   ],
   "source": [
    "model.summary()"
   ],
   "metadata": {
    "collapsed": false,
    "ExecuteTime": {
     "end_time": "2023-12-09T20:34:39.304284200Z",
     "start_time": "2023-12-09T20:34:39.244288300Z"
    }
   },
   "id": "3cafe328f86377ec"
  },
  {
   "cell_type": "code",
   "execution_count": 16,
   "outputs": [
    {
     "name": "stdout",
     "output_type": "stream",
     "text": [
      "INFO:tensorflow:Reduce to /job:localhost/replica:0/task:0/device:CPU:0 then broadcast to ('/job:localhost/replica:0/task:0/device:CPU:0',).\n",
      "INFO:tensorflow:Reduce to /job:localhost/replica:0/task:0/device:CPU:0 then broadcast to ('/job:localhost/replica:0/task:0/device:CPU:0',).\n",
      "INFO:tensorflow:Reduce to /job:localhost/replica:0/task:0/device:CPU:0 then broadcast to ('/job:localhost/replica:0/task:0/device:CPU:0',).\n",
      "INFO:tensorflow:Reduce to /job:localhost/replica:0/task:0/device:CPU:0 then broadcast to ('/job:localhost/replica:0/task:0/device:CPU:0',).\n"
     ]
    }
   ],
   "source": [
    "# Compiling the model\n",
    "\n",
    "with strategy.scope():\n",
    "    \n",
    "    model.compile(\n",
    "        \n",
    "        # Updating the weights using adam, which uses adaptive learning rate scheduling\n",
    "        optimizer=tf.keras.optimizers.Adam(), \n",
    "        \n",
    "        # The loss function is used to quantify how badly the model performs (the difference between the output and the actual value)\n",
    "        # Sparse Categorical CrossEntropy is used for integer labels\n",
    "        # It penalises loss logarithmically\n",
    "        loss='sparse_categorical_crossentropy',\n",
    "\n",
    "        # List of metrics to monitor\n",
    "        # Accuracy represents the ratio of correctly predicted instances to the total\n",
    "        metrics=['accuracy']\n",
    "    )\n"
   ],
   "metadata": {
    "collapsed": false,
    "ExecuteTime": {
     "end_time": "2023-12-09T20:34:39.306285800Z",
     "start_time": "2023-12-09T20:34:39.262287200Z"
    }
   },
   "id": "ff58e8b1eaa5888c"
  },
  {
   "cell_type": "code",
   "execution_count": 17,
   "outputs": [
    {
     "name": "stdout",
     "output_type": "stream",
     "text": [
      "Epoch 1/30\n",
      "INFO:tensorflow:Reduce to /job:localhost/replica:0/task:0/device:CPU:0 then broadcast to ('/job:localhost/replica:0/task:0/device:CPU:0',).\n",
      "INFO:tensorflow:Reduce to /job:localhost/replica:0/task:0/device:CPU:0 then broadcast to ('/job:localhost/replica:0/task:0/device:CPU:0',).\n",
      "INFO:tensorflow:Reduce to /job:localhost/replica:0/task:0/device:CPU:0 then broadcast to ('/job:localhost/replica:0/task:0/device:CPU:0',).\n",
      "INFO:tensorflow:Reduce to /job:localhost/replica:0/task:0/device:CPU:0 then broadcast to ('/job:localhost/replica:0/task:0/device:CPU:0',).\n",
      "INFO:tensorflow:Reduce to /job:localhost/replica:0/task:0/device:CPU:0 then broadcast to ('/job:localhost/replica:0/task:0/device:CPU:0',).\n",
      "INFO:tensorflow:Reduce to /job:localhost/replica:0/task:0/device:CPU:0 then broadcast to ('/job:localhost/replica:0/task:0/device:CPU:0',).\n",
      "1875/1875 - 15s - loss: 0.3008 - accuracy: 0.9236 - val_loss: 0.0825 - val_accuracy: 0.9754\n",
      "Epoch 2/30\n",
      "1875/1875 - 8s - loss: 0.0891 - accuracy: 0.9750 - val_loss: 0.0559 - val_accuracy: 0.9822\n",
      "Epoch 3/30\n",
      "1875/1875 - 8s - loss: 0.0660 - accuracy: 0.9812 - val_loss: 0.0447 - val_accuracy: 0.9877\n",
      "Epoch 4/30\n",
      "1875/1875 - 8s - loss: 0.0536 - accuracy: 0.9843 - val_loss: 0.0540 - val_accuracy: 0.9854\n",
      "Epoch 5/30\n",
      "1875/1875 - 8s - loss: 0.0467 - accuracy: 0.9867 - val_loss: 0.0513 - val_accuracy: 0.9876\n",
      "Epoch 6/30\n",
      "1875/1875 - 8s - loss: 0.0440 - accuracy: 0.9875 - val_loss: 0.0612 - val_accuracy: 0.9864\n",
      "Epoch 7/30\n",
      "1875/1875 - 9s - loss: 0.0372 - accuracy: 0.9890 - val_loss: 0.0552 - val_accuracy: 0.9886\n",
      "Epoch 8/30\n",
      "1875/1875 - 8s - loss: 0.0368 - accuracy: 0.9897 - val_loss: 0.0711 - val_accuracy: 0.9857\n",
      "Epoch 9/30\n",
      "1875/1875 - 8s - loss: 0.0346 - accuracy: 0.9901 - val_loss: 0.0549 - val_accuracy: 0.9863\n",
      "Epoch 10/30\n",
      "1875/1875 - 8s - loss: 0.0278 - accuracy: 0.9920 - val_loss: 0.0751 - val_accuracy: 0.9863\n",
      "Epoch 11/30\n",
      "1875/1875 - 8s - loss: 0.0307 - accuracy: 0.9921 - val_loss: 0.0619 - val_accuracy: 0.9863\n",
      "Epoch 12/30\n",
      "1875/1875 - 8s - loss: 0.0284 - accuracy: 0.9920 - val_loss: 0.0529 - val_accuracy: 0.9901\n",
      "Epoch 13/30\n",
      "1875/1875 - 8s - loss: 0.0245 - accuracy: 0.9929 - val_loss: 0.0627 - val_accuracy: 0.9890\n",
      "Epoch 14/30\n",
      "1875/1875 - 8s - loss: 0.0273 - accuracy: 0.9930 - val_loss: 0.0859 - val_accuracy: 0.9869\n",
      "Epoch 15/30\n",
      "1875/1875 - 8s - loss: 0.0239 - accuracy: 0.9933 - val_loss: 0.0639 - val_accuracy: 0.9911\n",
      "Epoch 16/30\n",
      "1875/1875 - 8s - loss: 0.0248 - accuracy: 0.9937 - val_loss: 0.0665 - val_accuracy: 0.9891\n",
      "Epoch 17/30\n",
      "1875/1875 - 7s - loss: 0.0235 - accuracy: 0.9940 - val_loss: 0.0619 - val_accuracy: 0.9899\n",
      "Epoch 18/30\n",
      "1875/1875 - 7s - loss: 0.0252 - accuracy: 0.9936 - val_loss: 0.0766 - val_accuracy: 0.9876\n",
      "Epoch 19/30\n",
      "1875/1875 - 9s - loss: 0.0227 - accuracy: 0.9945 - val_loss: 0.0758 - val_accuracy: 0.9897\n",
      "Epoch 20/30\n",
      "1875/1875 - 9s - loss: 0.0246 - accuracy: 0.9940 - val_loss: 0.1118 - val_accuracy: 0.9870\n",
      "Epoch 21/30\n",
      "1875/1875 - 8s - loss: 0.0273 - accuracy: 0.9941 - val_loss: 0.0927 - val_accuracy: 0.9871\n",
      "Epoch 22/30\n",
      "1875/1875 - 8s - loss: 0.0241 - accuracy: 0.9944 - val_loss: 0.1146 - val_accuracy: 0.9865\n",
      "Epoch 23/30\n",
      "1875/1875 - 9s - loss: 0.0209 - accuracy: 0.9950 - val_loss: 0.0897 - val_accuracy: 0.9891\n",
      "Epoch 24/30\n",
      "1875/1875 - 9s - loss: 0.0256 - accuracy: 0.9942 - val_loss: 0.0838 - val_accuracy: 0.9899\n",
      "Epoch 25/30\n",
      "1875/1875 - 9s - loss: 0.0264 - accuracy: 0.9941 - val_loss: 0.0971 - val_accuracy: 0.9889\n",
      "Epoch 26/30\n",
      "1875/1875 - 8s - loss: 0.0166 - accuracy: 0.9959 - val_loss: 0.1524 - val_accuracy: 0.9855\n",
      "Epoch 27/30\n",
      "1875/1875 - 9s - loss: 0.0270 - accuracy: 0.9945 - val_loss: 0.1062 - val_accuracy: 0.9887\n",
      "Epoch 28/30\n",
      "1875/1875 - 8s - loss: 0.0253 - accuracy: 0.9950 - val_loss: 0.1510 - val_accuracy: 0.9885\n",
      "Epoch 29/30\n",
      "1875/1875 - 8s - loss: 0.0296 - accuracy: 0.9945 - val_loss: 0.1049 - val_accuracy: 0.9894\n",
      "Epoch 30/30\n",
      "1875/1875 - 8s - loss: 0.0183 - accuracy: 0.9959 - val_loss: 0.1325 - val_accuracy: 0.9890\n",
      "Training time: 255.17915430000002 seconds\n"
     ]
    }
   ],
   "source": [
    "# Training the neural network\n",
    "# The batch size is default 32\n",
    "\n",
    "start = time.perf_counter()\n",
    "\n",
    "with strategy.scope():\n",
    "    history = model.fit(\n",
    "        # Input data: inputs, labels combined \n",
    "        train_dataset,\n",
    "        # The data on which to evaluate the accuracy of the training\n",
    "        validation_data=test_dataset,\n",
    "        # The number of how many times we want to iterate over the entire dataset\n",
    "        epochs=EPOCHS, \n",
    "        verbose=2, \n",
    "        # callbacks=callbacks\n",
    "    )\n",
    "\n",
    "print(f\"Training time: {time.perf_counter() - start} seconds\")"
   ],
   "metadata": {
    "collapsed": false,
    "ExecuteTime": {
     "end_time": "2023-12-09T20:38:54.477426100Z",
     "start_time": "2023-12-09T20:34:39.293288500Z"
    }
   },
   "id": "50fa52e313aa40c4"
  },
  {
   "cell_type": "code",
   "execution_count": 29,
   "outputs": [
    {
     "name": "stdout",
     "output_type": "stream",
     "text": [
      "{'loss': [0.30076509714126587, 0.08906883001327515, 0.06601231545209885, 0.0536457896232605, 0.04666978493332863, 0.04398130998015404, 0.03719150274991989, 0.03675137087702751, 0.034648358821868896, 0.027841461822390556, 0.03066028654575348, 0.028423752635717392, 0.024547487497329712, 0.027334824204444885, 0.023928890004754066, 0.02478807419538498, 0.023514483124017715, 0.02515995502471924, 0.02266283519566059, 0.024614974856376648, 0.02728206105530262, 0.024098116904497147, 0.020905975252389908, 0.025634363293647766, 0.026366718113422394, 0.01657484658062458, 0.026979366317391396, 0.02533213049173355, 0.029561199247837067, 0.01829613372683525], 'accuracy': [0.9236000180244446, 0.9749666452407837, 0.981249988079071, 0.9843166470527649, 0.9867333173751831, 0.9874833226203918, 0.9890499711036682, 0.9896833300590515, 0.9901333451271057, 0.9920333623886108, 0.9921333193778992, 0.9920499920845032, 0.9929166436195374, 0.992983341217041, 0.9932833313941956, 0.9936833381652832, 0.9939666390419006, 0.9935666918754578, 0.9944666624069214, 0.9939833283424377, 0.9941166639328003, 0.994350016117096, 0.995033323764801, 0.9942499995231628, 0.9941166639328003, 0.9958500266075134, 0.9944833517074585, 0.995033323764801, 0.994533360004425, 0.9958833456039429], 'val_loss': [0.0825171247124672, 0.05588259920477867, 0.04468660429120064, 0.05400621518492699, 0.051322996616363525, 0.06115169823169708, 0.05517116189002991, 0.07111427932977676, 0.05493862181901932, 0.07506619393825531, 0.06190012767910957, 0.05287788808345795, 0.06269386410713196, 0.08585353195667267, 0.06392769515514374, 0.06649263948202133, 0.06188366562128067, 0.07658766955137253, 0.07581020146608353, 0.11178039759397507, 0.0927143469452858, 0.11460930109024048, 0.08974478393793106, 0.08376499265432358, 0.09711530804634094, 0.15235276520252228, 0.10623801499605179, 0.15095245838165283, 0.10485073179006577, 0.13246260583400726], 'val_accuracy': [0.9753999710083008, 0.982200026512146, 0.9876999855041504, 0.9854000210762024, 0.9876000285148621, 0.9864000082015991, 0.9886000156402588, 0.9857000112533569, 0.986299991607666, 0.986299991607666, 0.986299991607666, 0.9901000261306763, 0.9890000224113464, 0.9868999719619751, 0.991100013256073, 0.9890999794006348, 0.9898999929428101, 0.9876000285148621, 0.9897000193595886, 0.9869999885559082, 0.9871000051498413, 0.9865000247955322, 0.9890999794006348, 0.9898999929428101, 0.9889000058174133, 0.9854999780654907, 0.9886999726295471, 0.9884999990463257, 0.9894000291824341, 0.9890000224113464]}\n"
     ]
    }
   ],
   "source": [
    "print(history.history)"
   ],
   "metadata": {
    "collapsed": false,
    "ExecuteTime": {
     "end_time": "2023-12-09T21:02:19.971023700Z",
     "start_time": "2023-12-09T21:02:19.931025700Z"
    }
   },
   "id": "799691365c5ba008"
  },
  {
   "cell_type": "code",
   "execution_count": 18,
   "outputs": [
    {
     "name": "stdout",
     "output_type": "stream",
     "text": [
      "313/313 - 1s - loss: 0.1325 - accuracy: 0.9890\n",
      "\n",
      "Test accuracy: 0.9890000224113464\n",
      "\n",
      "Test loss: 0.13246260583400726\n"
     ]
    }
   ],
   "source": [
    "# The loss and accuracy on the test data:\n",
    "test_loss, test_acc = model.evaluate(test_images, test_labels, verbose=2)\n",
    "print(f'\\nTest accuracy: {test_acc}')\n",
    "print(f'\\nTest loss: {test_loss}')"
   ],
   "metadata": {
    "collapsed": false,
    "ExecuteTime": {
     "end_time": "2023-12-09T20:38:55.460428200Z",
     "start_time": "2023-12-09T20:38:54.475426500Z"
    }
   },
   "id": "dd1c67d4fdfce2c1"
  },
  {
   "cell_type": "code",
   "execution_count": 19,
   "outputs": [
    {
     "name": "stdout",
     "output_type": "stream",
     "text": [
      "Generate predictions for 3 samples\n"
     ]
    },
    {
     "data": {
      "text/plain": "array([[0.0000000e+00, 0.0000000e+00, 2.4801976e-27, 0.0000000e+00,\n        5.6388039e-29, 0.0000000e+00, 0.0000000e+00, 1.0000000e+00,\n        0.0000000e+00, 2.6100474e-25],\n       [0.0000000e+00, 0.0000000e+00, 1.0000000e+00, 0.0000000e+00,\n        0.0000000e+00, 0.0000000e+00, 0.0000000e+00, 0.0000000e+00,\n        2.8512269e-36, 0.0000000e+00],\n       [0.0000000e+00, 1.0000000e+00, 0.0000000e+00, 0.0000000e+00,\n        0.0000000e+00, 0.0000000e+00, 0.0000000e+00, 0.0000000e+00,\n        0.0000000e+00, 0.0000000e+00]], dtype=float32)"
     },
     "execution_count": 19,
     "metadata": {},
     "output_type": "execute_result"
    }
   ],
   "source": [
    "# Generate predictions (probabilities -- the output of the last layer)\n",
    "# on new data using `predict`\n",
    "# We can see what probability does the model assign to each of the labels\n",
    "\n",
    "print(\"Generate predictions for 3 samples\")\n",
    "predictions = model.predict(test_images[:3])\n",
    "\n",
    "# for prediction in predictions:\n",
    "#     for percent in prediction:\n",
    "#         print(round(percent * 100, 1), end=\"    \")\n",
    "#     print()\n",
    "\n",
    "predictions"
   ],
   "metadata": {
    "collapsed": false,
    "ExecuteTime": {
     "end_time": "2023-12-09T20:38:56.727217200Z",
     "start_time": "2023-12-09T20:38:55.457429200Z"
    }
   },
   "id": "c4134ccd81fde97a"
  },
  {
   "cell_type": "code",
   "execution_count": 20,
   "outputs": [
    {
     "name": "stdout",
     "output_type": "stream",
     "text": [
      "True Label: 7, Predicted Label: 7\n",
      "True Label: 2, Predicted Label: 2\n",
      "True Label: 1, Predicted Label: 1\n",
      "True Label: 0, Predicted Label: 0\n",
      "True Label: 4, Predicted Label: 4\n",
      "True Label: 1, Predicted Label: 1\n",
      "True Label: 4, Predicted Label: 4\n",
      "True Label: 9, Predicted Label: 9\n",
      "True Label: 5, Predicted Label: 5\n",
      "True Label: 9, Predicted Label: 9\n",
      "True Label: 0, Predicted Label: 0\n",
      "True Label: 6, Predicted Label: 6\n",
      "True Label: 9, Predicted Label: 9\n",
      "True Label: 0, Predicted Label: 0\n",
      "True Label: 1, Predicted Label: 1\n",
      "True Label: 5, Predicted Label: 5\n",
      "True Label: 9, Predicted Label: 9\n",
      "True Label: 7, Predicted Label: 7\n",
      "True Label: 3, Predicted Label: 3\n",
      "True Label: 4, Predicted Label: 4\n",
      "True Label: 9, Predicted Label: 9\n",
      "True Label: 6, Predicted Label: 6\n",
      "True Label: 6, Predicted Label: 6\n",
      "True Label: 5, Predicted Label: 5\n",
      "True Label: 4, Predicted Label: 4\n",
      "True Label: 0, Predicted Label: 0\n",
      "True Label: 7, Predicted Label: 7\n",
      "True Label: 4, Predicted Label: 4\n",
      "True Label: 0, Predicted Label: 0\n",
      "True Label: 1, Predicted Label: 1\n",
      "True Label: 3, Predicted Label: 3\n",
      "True Label: 1, Predicted Label: 1\n"
     ]
    }
   ],
   "source": [
    "# Better visualize the predictions\n",
    "for images, labels in test_dataset.take(1):  # Take a batch from the test dataset\n",
    "    predictions = model.predict(images)\n",
    "    predicted_labels = np.argmax(predictions, axis=1)\n",
    "\n",
    "    for i in range(len(labels)):\n",
    "        print(f\"True Label: {labels[i]}, Predicted Label: {predicted_labels[i]}\")"
   ],
   "metadata": {
    "collapsed": false,
    "ExecuteTime": {
     "end_time": "2023-12-09T20:38:57.894793500Z",
     "start_time": "2023-12-09T20:38:56.729218800Z"
    }
   },
   "id": "b29b5bbea642c76c"
  },
  {
   "cell_type": "code",
   "execution_count": 21,
   "outputs": [
    {
     "data": {
      "text/plain": "<matplotlib.image.AxesImage at 0x225bd9bb898>"
     },
     "execution_count": 21,
     "metadata": {},
     "output_type": "execute_result"
    },
    {
     "data": {
      "text/plain": "<Figure size 432x288 with 1 Axes>",
      "image/png": "[encoded data removed]"
     },
     "metadata": {
      "needs_background": "light"
     },
     "output_type": "display_data"
    }
   ],
   "source": [
    "plt.imshow(tf.squeeze( test_images[7]))"
   ],
   "metadata": {
    "collapsed": false,
    "ExecuteTime": {
     "end_time": "2023-12-09T20:38:57.990792700Z",
     "start_time": "2023-12-09T20:38:57.890793100Z"
    }
   },
   "id": "87ab8647c2329c20"
  },
  {
   "cell_type": "code",
   "execution_count": 22,
   "outputs": [
    {
     "data": {
      "text/plain": "<matplotlib.collections.PathCollection at 0x225d1ff7b70>"
     },
     "execution_count": 22,
     "metadata": {},
     "output_type": "execute_result"
    },
    {
     "data": {
      "text/plain": "<Figure size 432x288 with 1 Axes>",
      "image/png": "[encoded data removed]"
     },
     "metadata": {
      "needs_background": "light"
     },
     "output_type": "display_data"
    }
   ],
   "source": [
    "plt.scatter(range(10), predictions[7])"
   ],
   "metadata": {
    "collapsed": false,
    "ExecuteTime": {
     "end_time": "2023-12-09T20:38:58.095793Z",
     "start_time": "2023-12-09T20:38:57.987793500Z"
    }
   },
   "id": "774f40d935af09ba"
  },
  {
   "cell_type": "markdown",
   "source": [
    "Surprisingly, he model learns the data at great accuracy very quickly.\n",
    "And with little overfitting.\n",
    "But we can see that if the training continues for longer the validation accuracy decreases as the model increasingly overfits.\n"
   ],
   "metadata": {
    "collapsed": false
   },
   "id": "209451687a59f51a"
  },
  {
   "cell_type": "code",
   "execution_count": 23,
   "outputs": [
    {
     "data": {
      "text/plain": "<Figure size 1296x432 with 2 Axes>",
      "image/png": "[encoded data removed]"
     },
     "metadata": {
      "needs_background": "light"
     },
     "output_type": "display_data"
    }
   ],
   "source": [
    "# Plotting training and validation accuracy values\n",
    "plt.figure(figsize=(18, 6))\n",
    "plt.subplot(1, 2, 1)\n",
    "plt.plot(history.history['accuracy'], label='Training Accuracy')\n",
    "plt.plot(history.history['val_accuracy'], label='Validation Accuracy')\n",
    "plt.title('Training and Validation Accuracy')\n",
    "plt.xlabel('Epoch')\n",
    "plt.ylabel('Accuracy')\n",
    "# plt.ylim(0, 1)\n",
    "plt.legend()\n",
    "\n",
    "# Plot training and validation loss values\n",
    "plt.subplot(1, 2, 2)\n",
    "plt.plot(history.history['loss'], label='Training Loss')\n",
    "plt.plot(history.history['val_loss'], label='Validation Loss')\n",
    "plt.title('Training and Validation Loss')\n",
    "plt.xlabel('Epoch')\n",
    "plt.ylabel('Loss')\n",
    "# plt.ylim(0, 1)\n",
    "plt.legend()\n",
    "\n",
    "plt.tight_layout()\n",
    "plt.show()"
   ],
   "metadata": {
    "collapsed": false,
    "ExecuteTime": {
     "end_time": "2023-12-09T20:38:58.366792400Z",
     "start_time": "2023-12-09T20:38:58.087794300Z"
    }
   },
   "id": "e4927ed6e607312f"
  },
  {
   "cell_type": "code",
   "execution_count": 24,
   "outputs": [
    {
     "name": "stdout",
     "output_type": "stream",
     "text": [
      "Correct:  9890\n",
      "Incorrect:  110\n"
     ]
    }
   ],
   "source": [
    "# Confusion matrix on the test data:\n",
    "\n",
    "y_true = []\n",
    "y_pred = []\n",
    "\n",
    "for images, labels in test_dataset:\n",
    "    for label in labels:\n",
    "        y_true.append(tf.cast(label, dtype=tf.int32).numpy())\n",
    "    predictions = model.predict(images)\n",
    "    y_pred.extend(np.argmax(predictions, axis=1))\n",
    "\n",
    "correct =  0\n",
    "incorrect = 0\n",
    "\n",
    "for true_label, predicted_label in zip(y_true, y_pred):\n",
    "    if true_label == predicted_label:\n",
    "        correct += 1\n",
    "    else:\n",
    "        incorrect +=1\n",
    "        \n",
    "print(\"Correct: \", correct)\n",
    "print(\"Incorrect: \", incorrect)"
   ],
   "metadata": {
    "collapsed": false,
    "ExecuteTime": {
     "end_time": "2023-12-09T20:39:20.933793Z",
     "start_time": "2023-12-09T20:38:58.368795200Z"
    }
   },
   "id": "406266fa47a3cf58"
  },
  {
   "cell_type": "code",
   "execution_count": 25,
   "outputs": [
    {
     "name": "stdout",
     "output_type": "stream",
     "text": [
      "Confusion Matrix:\n",
      "[[ 973    1    0    0    0    0    2    2    2    0]\n",
      " [   0 1134    0    0    0    0    0    1    0    0]\n",
      " [   2    2 1020    1    2    0    0    5    0    0]\n",
      " [   0    0    1  992    0   10    0    3    2    2]\n",
      " [   0    0    0    0  966    0    1    1    0   14]\n",
      " [   3    0    0    2    0  884    1    1    0    1]\n",
      " [   2    5    0    0    0    3  947    0    1    0]\n",
      " [   0    4    3    0    1    0    0 1018    1    1]\n",
      " [   1    0    1    0    1    2    2    1  963    3]\n",
      " [   1    2    0    0    5    3    0    5    0  993]]\n"
     ]
    }
   ],
   "source": [
    "from sklearn.metrics import confusion_matrix\n",
    "\n",
    "# Creating the confusion matrix\n",
    "conf_matrix = confusion_matrix(y_true, y_pred)\n",
    "\n",
    "print(\"Confusion Matrix:\")\n",
    "print(conf_matrix)"
   ],
   "metadata": {
    "collapsed": false,
    "ExecuteTime": {
     "end_time": "2023-12-09T20:39:21.722792200Z",
     "start_time": "2023-12-09T20:39:20.930793300Z"
    }
   },
   "id": "add3443a1fead8f8"
  },
  {
   "cell_type": "markdown",
   "source": [
    "At a previous training it was easily observable that the model sometimes confused 9 and 5,\n",
    "And now 8 and 3 "
   ],
   "metadata": {
    "collapsed": false
   },
   "id": "fcbfa446d894cdb4"
  },
  {
   "cell_type": "code",
   "execution_count": 26,
   "outputs": [
    {
     "name": "stdout",
     "output_type": "stream",
     "text": [
      "Classification Report:\n",
      "              precision    recall  f1-score   support\n",
      "\n",
      "           0       0.99      0.99      0.99       980\n",
      "           1       0.99      1.00      0.99      1135\n",
      "           2       1.00      0.99      0.99      1032\n",
      "           3       1.00      0.98      0.99      1010\n",
      "           4       0.99      0.98      0.99       982\n",
      "           5       0.98      0.99      0.99       892\n",
      "           6       0.99      0.99      0.99       958\n",
      "           7       0.98      0.99      0.99      1028\n",
      "           8       0.99      0.99      0.99       974\n",
      "           9       0.98      0.98      0.98      1009\n",
      "\n",
      "    accuracy                           0.99     10000\n",
      "   macro avg       0.99      0.99      0.99     10000\n",
      "weighted avg       0.99      0.99      0.99     10000\n"
     ]
    }
   ],
   "source": [
    "from sklearn.metrics import classification_report\n",
    "\n",
    "# Some deeper metrics:\n",
    "print(\"Classification Report:\")\n",
    "print(classification_report(y_true, y_pred))"
   ],
   "metadata": {
    "collapsed": false,
    "ExecuteTime": {
     "end_time": "2023-12-09T20:39:21.796792Z",
     "start_time": "2023-12-09T20:39:21.719793300Z"
    }
   },
   "id": "45f6fae05bfec8e0"
  },
  {
   "cell_type": "code",
   "execution_count": 27,
   "outputs": [],
   "source": [
    "# I thought about doing data augmentation to improve the accuracy, \n",
    "# but with 99% it wouldn't lead to any significant improvement\n",
    "\n",
    "with strategy.scope():\n",
    "\n",
    "    data_augmentation = tf.keras.Sequential(\n",
    "        [\n",
    "            layers.RandomFlip(\"horizontal\"),\n",
    "            layers.RandomRotation(0.1),\n",
    "            layers.RandomZoom(0.1)\n",
    "        ]\n",
    "    )"
   ],
   "metadata": {
    "collapsed": false,
    "ExecuteTime": {
     "end_time": "2023-12-09T20:39:21.799792900Z",
     "start_time": "2023-12-09T20:39:21.754793200Z"
    }
   },
   "id": "e539dc8831fa861c"
  }
 ],
 "metadata": {
  "kernelspec": {
   "display_name": "Python 3 (ipykernel)",
   "language": "python",
   "name": "python3"
  },
  "language_info": {
   "codemirror_mode": {
    "name": "ipython",
    "version": 3
   },
   "file_extension": ".py",
   "mimetype": "text/x-python",
   "name": "python",
   "nbconvert_exporter": "python",
   "pygments_lexer": "ipython3",
   "version": "3.10.9"
  }
 },
 "nbformat": 4,
 "nbformat_minor": 5
}
