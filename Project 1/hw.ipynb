{
 "cells": [
  {
   "cell_type": "code",
   "execution_count": 2,
   "outputs": [],
   "source": [
    "# A szükséges csomagok importálása \n",
    "import numpy as np\n",
    "from matplotlib import pyplot as plt\n",
    "\n",
    "from PIL import Image\n",
    "\n",
    "from scipy import ndimage\n",
    "from scipy import ndimage as ndi\n",
    "\n",
    "from skimage.feature import canny"
   ],
   "metadata": {
    "collapsed": false,
    "ExecuteTime": {
     "end_time": "2023-10-15T12:18:12.549726500Z",
     "start_time": "2023-10-15T12:18:10.355259800Z"
    }
   },
   "id": "36af6bd1001e79f6"
  },
  {
   "cell_type": "code",
   "execution_count": 4,
   "id": "initial_id",
   "metadata": {
    "collapsed": true,
    "ExecuteTime": {
     "end_time": "2023-10-15T12:18:17.764078700Z",
     "start_time": "2023-10-15T12:18:17.721567500Z"
    }
   },
   "outputs": [
    {
     "ename": "NameError",
     "evalue": "name 'img_rgb' is not defined",
     "output_type": "error",
     "traceback": [
      "\u001B[1;31m---------------------------------------------------------------------------\u001B[0m",
      "\u001B[1;31mNameError\u001B[0m                                 Traceback (most recent call last)",
      "Cell \u001B[1;32mIn[4], line 4\u001B[0m\n\u001B[0;32m      2\u001B[0m coin_0_img \u001B[38;5;241m=\u001B[39m Image\u001B[38;5;241m.\u001B[39mopen(\u001B[38;5;124m'\u001B[39m\u001B[38;5;124mcoin_2_1000x750.jpg\u001B[39m\u001B[38;5;124m'\u001B[39m)\u001B[38;5;241m.\u001B[39mconvert(\u001B[38;5;124m'\u001B[39m\u001B[38;5;124mL\u001B[39m\u001B[38;5;124m'\u001B[39m) \u001B[38;5;66;03m# szürkeárnyalatossá alakítom az RGB képet\u001B[39;00m\n\u001B[0;32m      3\u001B[0m \u001B[38;5;66;03m# tömböt készítek az RGB objektumból\u001B[39;00m\n\u001B[1;32m----> 4\u001B[0m coin_0_arr \u001B[38;5;241m=\u001B[39m np\u001B[38;5;241m.\u001B[39marray(\u001B[43mimg_rgb\u001B[49m)\n\u001B[0;32m      5\u001B[0m \u001B[38;5;66;03m# megnézem a kép szélességét és magasságát\u001B[39;00m\n\u001B[0;32m      6\u001B[0m \u001B[38;5;28mprint\u001B[39m(coin_0_arr\u001B[38;5;241m.\u001B[39mshape)\n",
      "\u001B[1;31mNameError\u001B[0m: name 'img_rgb' is not defined"
     ]
    }
   ],
   "source": [
    "# megnyitom az RGB képet\n",
    "coin_0_img = Image.open('coin_2_1000x750.jpg').convert('L') # szürkeárnyalatossá alakítom az RGB képet\n",
    "# tömböt készítek az RGB objektumból\n",
    "coin_0_arr = np.array(img_rgb)\n",
    "# megnézem a kép szélességét és magasságát\n",
    "print(coin_0_arr.shape)\n",
    "\n",
    "coin_0_arr.min(), coin_0_arr.max()"
   ]
  },
  {
   "cell_type": "code",
   "execution_count": 3,
   "outputs": [],
   "source": [
    "import cv2\n",
    "import numpy as np\n",
    "\n",
    "# Bemeneti kép beolvasása\n",
    "image = cv2.imread('coin_0_1000x750.jpg')\n",
    "\n",
    "# Kép skálázása\n",
    "# resized_image = cv2.resize(image, (800, 600))\n",
    "\n",
    "# Szürkeárnyalatúvá alakítás\n",
    "gray = cv2.cvtColor(resized_image, cv2.COLOR_BGR2GRAY)\n",
    "\n",
    "# Érmék körvonalainak megtalálása\n",
    "edges = cv2.Canny(gray, 30, 150)\n",
    "contours, _ = cv2.findContours(edges, cv2.RETR_EXTERNAL, cv2.CHAIN_APPROX_SIMPLE)\n",
    "\n",
    "# Érmék nevének és körvonalaik megjelenítése\n",
    "for contour in contours:\n",
    "    area = cv2.contourArea(contour)\n",
    "    if area > 1000:  # Csak az érmék megjelenítése, amelyek területe meghalad egy küszöbértéket\n",
    "        x, y, w, h = cv2.boundingRect(contour)\n",
    "        cv2.rectangle(resized_image, (x, y), (x + w, y + h), (0, 255, 0), 2)\n",
    "        cv2.putText(resized_image, 'Coin', (x, y - 10), cv2.FONT_HERSHEY_SIMPLEX, 0.9, (0, 255, 0), 2)\n",
    "\n",
    "# Eredmény megjelenítése\n",
    "cv2.imshow('Coins', resized_image)\n",
    "cv2.waitKey(0)\n",
    "cv2.destroyAllWindows()\n"
   ],
   "metadata": {
    "collapsed": false,
    "ExecuteTime": {
     "end_time": "2023-10-15T16:55:52.021474200Z",
     "start_time": "2023-10-15T16:55:49.044247600Z"
    }
   },
   "id": "975a0b4964912b25"
  }
 ],
 "metadata": {
  "kernelspec": {
   "display_name": "Python 3",
   "language": "python",
   "name": "python3"
  },
  "language_info": {
   "codemirror_mode": {
    "name": "ipython",
    "version": 2
   },
   "file_extension": ".py",
   "mimetype": "text/x-python",
   "name": "python",
   "nbconvert_exporter": "python",
   "pygments_lexer": "ipython2",
   "version": "2.7.6"
  }
 },
 "nbformat": 4,
 "nbformat_minor": 5
}
